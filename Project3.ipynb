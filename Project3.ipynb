{
 "cells": [
  {
   "cell_type": "code",
   "execution_count": null,
   "metadata": {},
   "outputs": [],
   "source": [
    "import pandas as pd"
   ]
  },
  {
   "cell_type": "code",
   "execution_count": null,
   "metadata": {},
   "outputs": [],
   "source": [
    "A =   [[0,0.5,1,0],\n",
    "       [0.333333333,0,0,0.5],\n",
    "       [0.333333333,0,0,0.5],\n",
    "      [0.333333333,0.5,0,0]]\n",
    "V1 = [[0.25,0.25,0.25,0.25]]\n",
    "   #  [13,14,15],\n",
    "    #  [16,17,18]]\n",
    "result = [[0,0,0,0],\n",
    "               [0,0,0,0],\n",
    "              [0,0,0,0],\n",
    "             [0,0,0,0]]\n",
    "# iterate through rows of X\n",
    "for i in range(len(A)):\n",
    "   for j in range(len(V1[0])):\n",
    "       for k in range(len(V1)):\n",
    "           result[i][j] += A[i][j] * V1[k][j]\n",
    "for r in result:\n",
    "   print(r)\n"
   ]
  },
  {
   "cell_type": "code",
   "execution_count": null,
   "metadata": {},
   "outputs": [],
   "source": [
    "df = pd.DataFrame(result)\n",
    "df.index += 1 \n",
    "df = df.sum(axis=1)\n",
    "df_v1 = df.values.tolist()\n",
    "df_v1\n",
    "\n"
   ]
  },
  {
   "cell_type": "code",
   "execution_count": null,
   "metadata": {},
   "outputs": [],
   "source": [
    "A =   [[0,0.5,1,0],\n",
    "       [0.33,0,0,0.5],\n",
    "       [0.33,0,0,0.5],\n",
    "      [0.33,0.5,0,0]]\n",
    "V2 = [df_v1]\n",
    "   #  [13,14,15],\n",
    "    #  [16,17,18]]\n",
    "result2 = [[0,0,0,0],\n",
    "               [0,0,0,0],\n",
    "              [0,0,0,0],\n",
    "             [0,0,0,0]]\n",
    "# iterate through rows of X\n",
    "for i in range(len(A)):\n",
    "   for j in range(len(V2[0])):\n",
    "       for k in range(len(V2)):\n",
    "           result2[i][j] += A[i][j] * V2[k][j]\n",
    "for r in result2:\n",
    "   print(r)"
   ]
  },
  {
   "cell_type": "code",
   "execution_count": null,
   "metadata": {},
   "outputs": [],
   "source": [
    "df_2 = pd.DataFrame(result2)\n",
    "df_2.index += 1 \n",
    "df_2 = df_2.sum(axis=1)\n",
    "df_2"
   ]
  },
  {
   "cell_type": "code",
   "execution_count": null,
   "metadata": {},
   "outputs": [],
   "source": []
  }
 ],
 "metadata": {
  "kernelspec": {
   "display_name": "Python 3",
   "language": "python",
   "name": "python3"
  },
  "language_info": {
   "codemirror_mode": {
    "name": "ipython",
    "version": 3
   },
   "file_extension": ".py",
   "mimetype": "text/x-python",
   "name": "python",
   "nbconvert_exporter": "python",
   "pygments_lexer": "ipython3",
   "version": "3.7.4"
  }
 },
 "nbformat": 4,
 "nbformat_minor": 2
}
